{
 "cells": [
  {
   "cell_type": "markdown",
   "id": "215503e4-ce9a-4f58-9188-5b64f3172515",
   "metadata": {},
   "source": [
    "# Control flow statement"
   ]
  },
  {
   "cell_type": "markdown",
   "id": "3d8e5e65-d1d3-4f3c-9965-57c787c695d3",
   "metadata": {},
   "source": [
    "# if statement"
   ]
  },
  {
   "cell_type": "code",
   "execution_count": 2,
   "id": "43783260-21f7-46db-8b78-7ebef54ae53d",
   "metadata": {},
   "outputs": [
    {
     "name": "stdout",
     "output_type": "stream",
     "text": [
      "20 is more than 10\n",
      "condition is false\n"
     ]
    }
   ],
   "source": [
    "i = 20\n",
    "if i>10:\n",
    "    print('20 is more than 10')\n",
    "print('condition is false')\n"
   ]
  },
  {
   "cell_type": "code",
   "execution_count": 3,
   "id": "c9205d48-d384-4b40-bf5f-a1268070a9b6",
   "metadata": {},
   "outputs": [
    {
     "name": "stdin",
     "output_type": "stream",
     "text": [
      "enter the temperature 26\n"
     ]
    },
    {
     "name": "stdout",
     "output_type": "stream",
     "text": [
      "temperature is convinient\n"
     ]
    }
   ],
   "source": [
    "temp = float(input('enter the temperature'))\n",
    "\n",
    "if temp<15:\n",
    "    print('temp is not convinient')\n",
    "if 24<temp<28:\n",
    "    print('temperature is convinient')"
   ]
  },
  {
   "cell_type": "markdown",
   "id": "54fe9953-eb6a-4eb6-926e-866179cf1196",
   "metadata": {},
   "source": [
    "# if else statement"
   ]
  },
  {
   "cell_type": "code",
   "execution_count": 4,
   "id": "d717216e-5521-4da1-b755-c4a1e821d2d3",
   "metadata": {},
   "outputs": [],
   "source": [
    "# write a program to check wheter a person is eligible for voting or not"
   ]
  },
  {
   "cell_type": "code",
   "execution_count": 6,
   "id": "059a27d3-2933-4ca4-a0bd-4b3ed06b6cb3",
   "metadata": {},
   "outputs": [
    {
     "name": "stdin",
     "output_type": "stream",
     "text": [
      "enter your age 14\n"
     ]
    },
    {
     "name": "stdout",
     "output_type": "stream",
     "text": [
      "you are not eligible to vote\n"
     ]
    }
   ],
   "source": [
    "age = int(input('enter your age'))\n",
    "\n",
    "if age>18:\n",
    "    print('you are eligible to vote')\n",
    "else:\n",
    "    print('you are not eligible to vote')"
   ]
  },
  {
   "cell_type": "code",
   "execution_count": 7,
   "id": "b8811850-f177-442b-ac08-69a69cba77e3",
   "metadata": {},
   "outputs": [],
   "source": [
    "# management of employees salalry"
   ]
  },
  {
   "cell_type": "code",
   "execution_count": 9,
   "id": "00cbc278-bc87-4258-b8aa-588fb465cf03",
   "metadata": {},
   "outputs": [
    {
     "name": "stdin",
     "output_type": "stream",
     "text": [
      "Enter your base salary 500000\n",
      "enter your years of service 4\n"
     ]
    },
    {
     "name": "stdout",
     "output_type": "stream",
     "text": [
      "your net salary is 440000.0\n"
     ]
    }
   ],
   "source": [
    "base_salary = float(input('Enter your base salary'))\n",
    "years_of_service = int(input('enter your years of service'))\n",
    "\n",
    "if years_of_service > 5:\n",
    "    total_salary = base_salary + (0.08*base_salary) - (0.12*base_salary)\n",
    "    print('you will get net salary', total_salary)\n",
    "else:\n",
    "    net_salary = base_salary - (0.12*base_salary)\n",
    "    print('your net salary is', net_salary)"
   ]
  },
  {
   "cell_type": "markdown",
   "id": "befd43b5-b312-4631-b92c-882acda25e67",
   "metadata": {},
   "source": [
    "# if elif else"
   ]
  },
  {
   "cell_type": "code",
   "execution_count": 10,
   "id": "99ef6df2-06a4-4474-a6d0-7ba7b57cd92a",
   "metadata": {},
   "outputs": [],
   "source": [
    "# Write a python program that prompts the user to input a city and display the famous monument of that city"
   ]
  },
  {
   "cell_type": "code",
   "execution_count": 12,
   "id": "849903f3-8a03-4f7d-b538-938110baba7b",
   "metadata": {},
   "outputs": [
    {
     "name": "stdin",
     "output_type": "stream",
     "text": [
      "Enter the city pune\n"
     ]
    },
    {
     "name": "stdout",
     "output_type": "stream",
     "text": [
      "the famous monument is shaniwar vada\n"
     ]
    }
   ],
   "source": [
    "a = input('Enter the city')\n",
    "if a == 'mumbai':\n",
    "    print('the famous monument is gateway of india')\n",
    "elif a == 'kolkata':\n",
    "    print('the famous monument is victoria memorial')\n",
    "elif a == 'chennai':\n",
    "    print('the famous monument is Marina beach')\n",
    "elif a == 'banglore':\n",
    "    print('the famous monument is botnical garden')\n",
    "elif a== 'pune':\n",
    "    print('the famous monument is shaniwar vada')\n",
    "else:\n",
    "    print('no record found')\n"
   ]
  },
  {
   "cell_type": "code",
   "execution_count": null,
   "id": "82c38529-a6af-46b3-9d5b-66fbda8b074c",
   "metadata": {},
   "outputs": [],
   "source": []
  }
 ],
 "metadata": {
  "kernelspec": {
   "display_name": "Python 3 (ipykernel)",
   "language": "python",
   "name": "python3"
  },
  "language_info": {
   "codemirror_mode": {
    "name": "ipython",
    "version": 3
   },
   "file_extension": ".py",
   "mimetype": "text/x-python",
   "name": "python",
   "nbconvert_exporter": "python",
   "pygments_lexer": "ipython3",
   "version": "3.11.7"
  }
 },
 "nbformat": 4,
 "nbformat_minor": 5
}
