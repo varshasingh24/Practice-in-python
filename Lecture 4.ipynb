{
 "cells": [
  {
   "cell_type": "markdown",
   "id": "7ade8adc-ecdb-4a1d-99c2-de048067c356",
   "metadata": {},
   "source": [
    "# Built in function in python"
   ]
  },
  {
   "cell_type": "code",
   "execution_count": 2,
   "id": "d7abdac2-9b15-4206-b018-8f4020b3baf5",
   "metadata": {},
   "outputs": [],
   "source": [
    "# Built in function in pyhton are like ready to made tools that come into the language. \n",
    "# These function are already available for you to use, so you don'nt need to define them yourself. they make pogramming in pyhton easier and more \n",
    "# efficient because you can reky on these functions to perform tasks tat are commonly needed in your programs.\n",
    "# Think of them as shortcuts or pre made solutions for common peoblems. For example, if you want to print something to screen, you can use the \n",
    "# built-in funtion print()"
   ]
  },
  {
   "cell_type": "markdown",
   "id": "c39b809c-d695-42d2-a401-a01a42453c9a",
   "metadata": {},
   "source": [
    "# Float function - convert integer, string('3.45') to floating number"
   ]
  },
  {
   "cell_type": "code",
   "execution_count": 4,
   "id": "92f43535-d763-462d-a921-f28e186a2112",
   "metadata": {},
   "outputs": [
    {
     "name": "stdout",
     "output_type": "stream",
     "text": [
      "<class 'int'>\n",
      "10.0\n",
      "<class 'float'>\n"
     ]
    }
   ],
   "source": [
    "num_int = 10\n",
    "print(type(num_int))\n",
    "a = float(num_int)\n",
    "print(a)\n",
    "print(type(a))"
   ]
  },
  {
   "cell_type": "code",
   "execution_count": 5,
   "id": "ccc99148-2d1d-4904-9e8f-5e63fe98a5b6",
   "metadata": {},
   "outputs": [
    {
     "name": "stdout",
     "output_type": "stream",
     "text": [
      "<class 'str'>\n",
      "<class 'float'>\n"
     ]
    }
   ],
   "source": [
    "a = '3.14'\n",
    "print(type(a))\n",
    "b = float(a)\n",
    "print(type(b))"
   ]
  },
  {
   "cell_type": "markdown",
   "id": "a259a3fe-a4d8-45ea-add2-c0e57554a9a3",
   "metadata": {},
   "source": [
    "# Int function - onvert float, string('3.45') to integer number"
   ]
  },
  {
   "cell_type": "code",
   "execution_count": 7,
   "id": "4ebfa388-532e-4903-b9de-f66f7d00d5e4",
   "metadata": {},
   "outputs": [
    {
     "name": "stdout",
     "output_type": "stream",
     "text": [
      "<class 'float'>\n",
      "5\n",
      "<class 'int'>\n"
     ]
    }
   ],
   "source": [
    "a = 5.62525366\n",
    "print(type(a))\n",
    "c = int(a)\n",
    "print(c)\n",
    "print(type(c))"
   ]
  },
  {
   "cell_type": "markdown",
   "id": "06890160-206f-41f3-9474-a9db0561a746",
   "metadata": {},
   "source": [
    "# complex function"
   ]
  },
  {
   "cell_type": "code",
   "execution_count": 8,
   "id": "399703df-cf55-46a9-a319-ad92bbc42368",
   "metadata": {},
   "outputs": [
    {
     "name": "stdout",
     "output_type": "stream",
     "text": [
      "(3+4j)\n"
     ]
    }
   ],
   "source": [
    "x = complex(3,4)\n",
    "print(x)"
   ]
  },
  {
   "cell_type": "code",
   "execution_count": 9,
   "id": "7aff267f-0030-473c-9cf1-10423943d905",
   "metadata": {},
   "outputs": [
    {
     "name": "stdout",
     "output_type": "stream",
     "text": [
      "(3+0j)\n"
     ]
    }
   ],
   "source": [
    "x = 3\n",
    "print(complex(x))"
   ]
  },
  {
   "cell_type": "markdown",
   "id": "ae77793c-cf19-449b-b3f4-2c20fd4132c0",
   "metadata": {},
   "source": [
    "# absolute function - abs() convert -ve number to +ve"
   ]
  },
  {
   "cell_type": "code",
   "execution_count": 10,
   "id": "305f9895-4333-4f9b-81a1-8a3863c2f201",
   "metadata": {},
   "outputs": [
    {
     "name": "stdout",
     "output_type": "stream",
     "text": [
      "23\n"
     ]
    }
   ],
   "source": [
    "x = -23\n",
    "print(abs(x))"
   ]
  },
  {
   "cell_type": "code",
   "execution_count": 12,
   "id": "d8e05099-2661-48e1-a172-65af72421284",
   "metadata": {},
   "outputs": [
    {
     "name": "stdout",
     "output_type": "stream",
     "text": [
      "6.78\n"
     ]
    }
   ],
   "source": [
    "y = -6.78\n",
    "print(abs(y))"
   ]
  },
  {
   "cell_type": "code",
   "execution_count": 13,
   "id": "b64bff6f-c9a1-4127-be2d-4ed9df853766",
   "metadata": {},
   "outputs": [
    {
     "name": "stdout",
     "output_type": "stream",
     "text": [
      "5.0\n"
     ]
    }
   ],
   "source": [
    "z = -3+4j\n",
    "print(abs(z))"
   ]
  },
  {
   "cell_type": "markdown",
   "id": "f42225e8-1ab2-49c9-bcdb-e52f50cdaf43",
   "metadata": {},
   "source": [
    "# length function  -- len()"
   ]
  },
  {
   "cell_type": "code",
   "execution_count": 14,
   "id": "7e6112bf-15b7-4713-94f3-3161c210f9e5",
   "metadata": {},
   "outputs": [
    {
     "name": "stdout",
     "output_type": "stream",
     "text": [
      "30\n"
     ]
    }
   ],
   "source": [
    "a = 'hello i am your educator swati'\n",
    "print(len(a))"
   ]
  },
  {
   "cell_type": "code",
   "execution_count": 15,
   "id": "c3d26295-81f8-4923-b997-f72bb431e713",
   "metadata": {},
   "outputs": [
    {
     "name": "stdout",
     "output_type": "stream",
     "text": [
      "4\n"
     ]
    }
   ],
   "source": [
    "c = [12, 34, 245,67]\n",
    "print(len(c))"
   ]
  },
  {
   "cell_type": "code",
   "execution_count": 16,
   "id": "7930b637-841e-4d16-86fb-1ba6ec80a601",
   "metadata": {},
   "outputs": [
    {
     "name": "stdout",
     "output_type": "stream",
     "text": [
      "the player score is 1234\n"
     ]
    }
   ],
   "source": [
    "player_score = 1234.56\n",
    "print('the player score is', int(player_score))"
   ]
  },
  {
   "cell_type": "code",
   "execution_count": 17,
   "id": "fbeeb73d-9b7e-4cb8-afc0-001babbd4c01",
   "metadata": {},
   "outputs": [
    {
     "name": "stdout",
     "output_type": "stream",
     "text": [
      "the total number of customer in database is 3\n"
     ]
    }
   ],
   "source": [
    "customer_database = [(1, 'john doe'), (2, 'jane smoth'), (3, 'alice')]\n",
    "print('the total number of customer in database is', len(customer_database))"
   ]
  },
  {
   "cell_type": "code",
   "execution_count": 23,
   "id": "0ef3f014-2463-4c37-9c29-874882dceb81",
   "metadata": {},
   "outputs": [
    {
     "name": "stdout",
     "output_type": "stream",
     "text": [
      "the simple interest is 70092.0\n",
      "the integer value is 70092\n"
     ]
    }
   ],
   "source": [
    "p = 250000\n",
    "r = 9.3456\n",
    "t = 3\n",
    "SI = ((p*r*t)/100)\n",
    "print('the simple interest is', SI)\n",
    "print('the integer value is', int(SI))"
   ]
  },
  {
   "cell_type": "code",
   "execution_count": null,
   "id": "f38fd26f-0c2c-4de3-a431-199d79bbea55",
   "metadata": {},
   "outputs": [],
   "source": []
  }
 ],
 "metadata": {
  "kernelspec": {
   "display_name": "Python 3 (ipykernel)",
   "language": "python",
   "name": "python3"
  },
  "language_info": {
   "codemirror_mode": {
    "name": "ipython",
    "version": 3
   },
   "file_extension": ".py",
   "mimetype": "text/x-python",
   "name": "python",
   "nbconvert_exporter": "python",
   "pygments_lexer": "ipython3",
   "version": "3.11.7"
  }
 },
 "nbformat": 4,
 "nbformat_minor": 5
}
