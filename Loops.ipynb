{
 "cells": [
  {
   "cell_type": "markdown",
   "id": "2c0aac4b-dfd5-42d1-ae81-96f4e2448b97",
   "metadata": {},
   "source": [
    "# while loop"
   ]
  },
  {
   "cell_type": "code",
   "execution_count": 1,
   "id": "f0c4b999-7b72-4c55-9acb-17213569b52d",
   "metadata": {},
   "outputs": [
    {
     "name": "stdout",
     "output_type": "stream",
     "text": [
      "1\n",
      "2\n",
      "3\n",
      "4\n",
      "5\n"
     ]
    }
   ],
   "source": [
    "count = 1\n",
    "while count <= 5:\n",
    "    print(count)\n",
    "    count= count+1"
   ]
  },
  {
   "cell_type": "code",
   "execution_count": 2,
   "id": "df11ca55-1e7c-4e8b-9c02-aa5ec8b37720",
   "metadata": {},
   "outputs": [],
   "source": [
    "# write program to print even number between 1 to 50"
   ]
  },
  {
   "cell_type": "code",
   "execution_count": null,
   "id": "43aea56c-c28e-40e3-bbae-870e7b3dfadc",
   "metadata": {},
   "outputs": [],
   "source": [
    "num = 1\n",
    "while num<=50:\n",
    "    if num % 2 == 0:\n",
    "        print(num)\n",
    "        num = num+1\n",
    "   \n",
    "    "
   ]
  },
  {
   "cell_type": "code",
   "execution_count": null,
   "id": "44f236b0-a715-4c3f-9e7f-0dcacac3e651",
   "metadata": {},
   "outputs": [],
   "source": []
  }
 ],
 "metadata": {
  "kernelspec": {
   "display_name": "Python 3 (ipykernel)",
   "language": "python",
   "name": "python3"
  },
  "language_info": {
   "codemirror_mode": {
    "name": "ipython",
    "version": 3
   },
   "file_extension": ".py",
   "mimetype": "text/x-python",
   "name": "python",
   "nbconvert_exporter": "python",
   "pygments_lexer": "ipython3",
   "version": "3.11.7"
  }
 },
 "nbformat": 4,
 "nbformat_minor": 5
}
