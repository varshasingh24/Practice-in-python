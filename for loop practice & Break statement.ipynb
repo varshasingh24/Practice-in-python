{
 "cells": [
  {
   "cell_type": "code",
   "execution_count": 1,
   "id": "7f4f8d65-5c12-4197-aa49-86554fdd945e",
   "metadata": {},
   "outputs": [
    {
     "name": "stdout",
     "output_type": "stream",
     "text": [
      "1\n",
      "2\n",
      "3\n",
      "4\n",
      "5\n",
      "6\n",
      "7\n",
      "8\n",
      "9\n",
      "10\n",
      "11\n",
      "12\n",
      "13\n",
      "14\n",
      "15\n"
     ]
    }
   ],
   "source": [
    "for x in range(1,16):\n",
    "    print(x)"
   ]
  },
  {
   "cell_type": "markdown",
   "id": "49fa7ace-c26a-4b94-8d76-fdf90009afd3",
   "metadata": {},
   "source": [
    "# for loop and if condition"
   ]
  },
  {
   "cell_type": "code",
   "execution_count": 2,
   "id": "205438f0-5366-409e-815e-d1a04792f2b4",
   "metadata": {},
   "outputs": [
    {
     "name": "stdout",
     "output_type": "stream",
     "text": [
      "the number is even 0\n",
      "the number is even 2\n",
      "the number is even 4\n",
      "the number is even 6\n",
      "the number is even 8\n",
      "the number is even 10\n",
      "the number is even 12\n",
      "the number is even 14\n",
      "the number is even 16\n",
      "the number is even 18\n",
      "the number is even 20\n",
      "the number is even 22\n",
      "the number is even 24\n"
     ]
    }
   ],
   "source": [
    "for i in range(0,26):\n",
    "    if i%2==0:\n",
    "        print('the number is even', i)\n",
    "    "
   ]
  },
  {
   "cell_type": "code",
   "execution_count": 3,
   "id": "1b9f0532-dc19-4865-a190-7cac6d8595d0",
   "metadata": {},
   "outputs": [
    {
     "name": "stdout",
     "output_type": "stream",
     "text": [
      "the number is even 0\n",
      "the number is odd 1\n",
      "the number is even 2\n",
      "the number is odd 3\n",
      "the number is even 4\n",
      "the number is odd 5\n",
      "the number is even 6\n",
      "the number is odd 7\n",
      "the number is even 8\n",
      "the number is odd 9\n",
      "the number is even 10\n",
      "the number is odd 11\n",
      "the number is even 12\n",
      "the number is odd 13\n",
      "the number is even 14\n",
      "the number is odd 15\n",
      "the number is even 16\n",
      "the number is odd 17\n",
      "the number is even 18\n",
      "the number is odd 19\n",
      "the number is even 20\n",
      "the number is odd 21\n",
      "the number is even 22\n",
      "the number is odd 23\n",
      "the number is even 24\n",
      "the number is odd 25\n"
     ]
    }
   ],
   "source": [
    "for i in range(0,26):\n",
    "    if i%2==0:\n",
    "        print('the number is even', i)\n",
    "    else:\n",
    "        print('the number is odd', i)"
   ]
  },
  {
   "cell_type": "markdown",
   "id": "d3c19e6d-e3ea-420c-a2b2-604dd1e497f4",
   "metadata": {},
   "source": [
    "# Impelemt table using python"
   ]
  },
  {
   "cell_type": "code",
   "execution_count": 7,
   "id": "c68a65ad-f719-4cea-aca5-22b0997d4b64",
   "metadata": {},
   "outputs": [
    {
     "name": "stdin",
     "output_type": "stream",
     "text": [
      "enter a number to generate its multiplication table 4\n"
     ]
    },
    {
     "name": "stdout",
     "output_type": "stream",
     "text": [
      "The multiplication table of 4\n",
      "4 x 1 = 4\n",
      "4 x 2 = 8\n",
      "4 x 3 = 12\n",
      "4 x 4 = 16\n",
      "4 x 5 = 20\n",
      "4 x 6 = 24\n",
      "4 x 7 = 28\n",
      "4 x 8 = 32\n",
      "4 x 9 = 36\n",
      "4 x 10 = 40\n"
     ]
    }
   ],
   "source": [
    "number = int(input('enter a number to generate its multiplication table'))\n",
    "print('The multiplication table of', number)\n",
    "\n",
    "for i in range(1,11):\n",
    "    print(f\"{number} x {i} = {number*i}\")"
   ]
  },
  {
   "cell_type": "markdown",
   "id": "cae59a86-7bc2-49bd-a9bf-da0520a62af3",
   "metadata": {},
   "source": [
    "# Practice question"
   ]
  },
  {
   "cell_type": "code",
   "execution_count": 8,
   "id": "ff6d7743-e126-4257-815a-2bfb6be5bd40",
   "metadata": {},
   "outputs": [
    {
     "name": "stdin",
     "output_type": "stream",
     "text": [
      "Enter the number of item purchased 3\n",
      "enter the price of items 20\n",
      "enter the price of items 29.9\n",
      "enter the price of items 70\n"
     ]
    },
    {
     "name": "stdout",
     "output_type": "stream",
     "text": [
      "subtotal 107.91\n"
     ]
    }
   ],
   "source": [
    "num_items = int(input('Enter the number of item purchased'))\n",
    "total_price = 0\n",
    "\n",
    "for i in range(num_items):\n",
    "    price = float(input('enter the price of items'))\n",
    "    total_price = total_price+price\n",
    "    i= i+1\n",
    "if total_price >=100:\n",
    "    discount = 0.1*total_price\n",
    "elif 50 <= total_price <100:\n",
    "    discount = 0.5*total_price\n",
    "else:\n",
    "    discount = 0\n",
    "total_bill = total_price - discount\n",
    "print('subtotal', total_bill)"
   ]
  },
  {
   "cell_type": "markdown",
   "id": "f86cf898-3386-46e9-87c0-5a3984ffcd82",
   "metadata": {},
   "source": [
    "# break statement"
   ]
  },
  {
   "cell_type": "code",
   "execution_count": 9,
   "id": "cffef9e8-5499-4f36-98b7-e0cde3e6d16d",
   "metadata": {},
   "outputs": [],
   "source": [
    "# We can use the break statement with the for loop to terminate the loop with a certain condition is met."
   ]
  },
  {
   "cell_type": "code",
   "execution_count": 15,
   "id": "f9f008a7-8bb9-4324-be9c-db2982092233",
   "metadata": {},
   "outputs": [
    {
     "name": "stdout",
     "output_type": "stream",
     "text": [
      "0\n",
      "1\n",
      "2\n"
     ]
    }
   ],
   "source": [
    "for i in range(5):\n",
    "    if i == 3:\n",
    "        break\n",
    "    print(i)"
   ]
  },
  {
   "cell_type": "markdown",
   "id": "f8c79ac2-a128-4f38-9aa9-3807ffe24cc0",
   "metadata": {},
   "source": [
    "# Continue statement"
   ]
  },
  {
   "cell_type": "code",
   "execution_count": 12,
   "id": "10720dca-34a3-4790-9608-11a77f2393bb",
   "metadata": {},
   "outputs": [],
   "source": [
    "# The continue statement is used to skip the current iteration of the loop and the control flow of the program goes to next iteration"
   ]
  },
  {
   "cell_type": "code",
   "execution_count": 13,
   "id": "8ecf6f6c-7932-4136-9c18-10cb9f871737",
   "metadata": {},
   "outputs": [
    {
     "name": "stdout",
     "output_type": "stream",
     "text": [
      "0\n",
      "1\n",
      "2\n",
      "4\n",
      "i am learning python\n"
     ]
    }
   ],
   "source": [
    "for i in range(5):\n",
    "    if i == 3:\n",
    "        continue\n",
    "    print(i)\n",
    "print('i am learning python')"
   ]
  },
  {
   "cell_type": "code",
   "execution_count": 14,
   "id": "c132a2db-646d-4d68-937c-c61e04db69f7",
   "metadata": {},
   "outputs": [
    {
     "name": "stdout",
     "output_type": "stream",
     "text": [
      "2\n",
      "4\n",
      "6\n",
      "8\n",
      "10\n"
     ]
    }
   ],
   "source": [
    "numbers = [1,2,3,4,5]\n",
    "for num in numbers:\n",
    "    print(num*2)"
   ]
  },
  {
   "cell_type": "code",
   "execution_count": null,
   "id": "282b9e59-8c2d-48c5-a8e3-63db0ebdb11e",
   "metadata": {},
   "outputs": [],
   "source": []
  }
 ],
 "metadata": {
  "kernelspec": {
   "display_name": "Python 3 (ipykernel)",
   "language": "python",
   "name": "python3"
  },
  "language_info": {
   "codemirror_mode": {
    "name": "ipython",
    "version": 3
   },
   "file_extension": ".py",
   "mimetype": "text/x-python",
   "name": "python",
   "nbconvert_exporter": "python",
   "pygments_lexer": "ipython3",
   "version": "3.11.7"
  }
 },
 "nbformat": 4,
 "nbformat_minor": 5
}
