{
 "cells": [
  {
   "cell_type": "code",
   "execution_count": 1,
   "id": "09823bc7-ede3-4b8c-9d57-f998f5e66d5a",
   "metadata": {},
   "outputs": [
    {
     "name": "stdout",
     "output_type": "stream",
     "text": [
      "John Doe\n"
     ]
    }
   ],
   "source": [
    "first_name = 'John'\n",
    "last_name = 'Doe'\n",
    "full_name = first_name + ' ' + last_name\n",
    "print(full_name)"
   ]
  },
  {
   "cell_type": "markdown",
   "id": "67749c7a-ff1e-434b-9c3e-5671f2a27d72",
   "metadata": {},
   "source": [
    "# Arithmetic Operation - {Addition}"
   ]
  },
  {
   "cell_type": "code",
   "execution_count": 2,
   "id": "de740ed7-0227-4cc1-8538-9482d31433ff",
   "metadata": {},
   "outputs": [
    {
     "name": "stdout",
     "output_type": "stream",
     "text": [
      "7\n"
     ]
    }
   ],
   "source": [
    "x = 3\n",
    "y = 4\n",
    "print(x+y)"
   ]
  },
  {
   "cell_type": "code",
   "execution_count": 3,
   "id": "f4a53370-18cb-4397-aa12-4629b13b0883",
   "metadata": {},
   "outputs": [
    {
     "name": "stdout",
     "output_type": "stream",
     "text": [
      "10.3\n"
     ]
    }
   ],
   "source": [
    "x = 3.4\n",
    "y = 6.9\n",
    "print(x+y)"
   ]
  },
  {
   "cell_type": "code",
   "execution_count": 4,
   "id": "0e219407-f53c-43cf-9f5d-0f50c7a1f7eb",
   "metadata": {},
   "outputs": [
    {
     "name": "stdout",
     "output_type": "stream",
     "text": [
      "hello student\n"
     ]
    }
   ],
   "source": [
    "x = 'hello'\n",
    "y = 'student'\n",
    "print(x+' '+y)"
   ]
  },
  {
   "cell_type": "code",
   "execution_count": 5,
   "id": "55e7a4de-4ff7-4506-86a7-3a384201aeec",
   "metadata": {},
   "outputs": [
    {
     "name": "stdout",
     "output_type": "stream",
     "text": [
      "(3+8j)\n"
     ]
    }
   ],
   "source": [
    "x = 2+3j\n",
    "y = 1+5j\n",
    "print(x+y)"
   ]
  },
  {
   "cell_type": "markdown",
   "id": "054ee2b1-0ad9-4fee-821d-c7cf72ded090",
   "metadata": {},
   "source": [
    "# {Subtraction}"
   ]
  },
  {
   "cell_type": "code",
   "execution_count": 6,
   "id": "db3269d8-ad94-44ea-ad20-e4d851d6a8a1",
   "metadata": {},
   "outputs": [
    {
     "name": "stdout",
     "output_type": "stream",
     "text": [
      "1\n"
     ]
    }
   ],
   "source": [
    "x = 4\n",
    "y = 3\n",
    "print(x-y)"
   ]
  },
  {
   "cell_type": "code",
   "execution_count": 8,
   "id": "7407ada0-b415-4fe4-9b10-258e481c334d",
   "metadata": {},
   "outputs": [
    {
     "name": "stdout",
     "output_type": "stream",
     "text": [
      "3.33\n"
     ]
    }
   ],
   "source": [
    "a = 5.67\n",
    "b = 2.34\n",
    "print(a-b)"
   ]
  },
  {
   "cell_type": "code",
   "execution_count": 10,
   "id": "d1aa4103-6d9a-45eb-b404-0e470a54f1c9",
   "metadata": {},
   "outputs": [
    {
     "name": "stdout",
     "output_type": "stream",
     "text": [
      "(2+4j)\n"
     ]
    }
   ],
   "source": [
    "a6 = 5+9j\n",
    "b6 = 3+5j\n",
    "print(a6-b6)"
   ]
  },
  {
   "cell_type": "markdown",
   "id": "168db9a0-28f1-4b44-965e-bb5eb242db3d",
   "metadata": {},
   "source": [
    "# multipilcation"
   ]
  },
  {
   "cell_type": "code",
   "execution_count": 11,
   "id": "2b24a85f-f968-424a-96a1-3e5da0d769f1",
   "metadata": {},
   "outputs": [
    {
     "name": "stdout",
     "output_type": "stream",
     "text": [
      "15\n"
     ]
    }
   ],
   "source": [
    "n = 3\n",
    "b = 5\n",
    "print(b*n)"
   ]
  },
  {
   "cell_type": "code",
   "execution_count": 13,
   "id": "08b3ed80-b26f-4456-8788-66ddca948d8a",
   "metadata": {},
   "outputs": [
    {
     "name": "stdout",
     "output_type": "stream",
     "text": [
      "32.812934399999996\n"
     ]
    }
   ],
   "source": [
    "n = 5.688\n",
    "b = 5.7688\n",
    "print(n*b)"
   ]
  },
  {
   "cell_type": "code",
   "execution_count": 15,
   "id": "c5246b59-9b05-4672-971a-ed40319837c2",
   "metadata": {},
   "outputs": [
    {
     "ename": "TypeError",
     "evalue": "can't multiply sequence by non-int of type 'str'",
     "output_type": "error",
     "traceback": [
      "\u001b[1;31m---------------------------------------------------------------------------\u001b[0m",
      "\u001b[1;31mTypeError\u001b[0m                                 Traceback (most recent call last)",
      "Cell \u001b[1;32mIn[15], line 3\u001b[0m\n\u001b[0;32m      1\u001b[0m \u001b[38;5;28mstr\u001b[39m \u001b[38;5;241m=\u001b[39m \u001b[38;5;124m'\u001b[39m\u001b[38;5;124mhello\u001b[39m\u001b[38;5;124m'\u001b[39m\n\u001b[0;32m      2\u001b[0m str2 \u001b[38;5;241m=\u001b[39m \u001b[38;5;124m'\u001b[39m\u001b[38;5;124mworld\u001b[39m\u001b[38;5;124m'\u001b[39m\n\u001b[1;32m----> 3\u001b[0m \u001b[38;5;28mprint\u001b[39m(\u001b[38;5;28mstr\u001b[39m\u001b[38;5;241m*\u001b[39mstr2)\n\u001b[0;32m      4\u001b[0m \u001b[38;5;28mprint\u001b[39m(\u001b[38;5;28mstr\u001b[39m\u001b[38;5;241m*\u001b[39m\u001b[38;5;241m3\u001b[39m)\n",
      "\u001b[1;31mTypeError\u001b[0m: can't multiply sequence by non-int of type 'str'"
     ]
    }
   ],
   "source": [
    "str = 'hello'\n",
    "str2 = 'world'\n",
    "print(str*str2)\n",
    "print(str*3)"
   ]
  },
  {
   "cell_type": "markdown",
   "id": "7fe03baf-8ea8-4c87-991b-a932d5dc9e82",
   "metadata": {},
   "source": [
    "# Division"
   ]
  },
  {
   "cell_type": "code",
   "execution_count": 16,
   "id": "845b2728-cdf2-4720-acd1-937acc16be1e",
   "metadata": {},
   "outputs": [
    {
     "name": "stdout",
     "output_type": "stream",
     "text": [
      "5.0\n"
     ]
    }
   ],
   "source": [
    "a = 15\n",
    "b = 3\n",
    "print(a/b)"
   ]
  },
  {
   "cell_type": "code",
   "execution_count": 17,
   "id": "1a8da85f-b405-4a5b-8d69-3701d791067f",
   "metadata": {},
   "outputs": [
    {
     "name": "stdout",
     "output_type": "stream",
     "text": [
      "6475.804478351059\n"
     ]
    }
   ],
   "source": [
    "a = 152345.890675\n",
    "b = 23.5254\n",
    "print(a/b)"
   ]
  },
  {
   "cell_type": "code",
   "execution_count": 18,
   "id": "96dcff67-c8d5-433f-8990-4c910e30d201",
   "metadata": {},
   "outputs": [
    {
     "name": "stdout",
     "output_type": "stream",
     "text": [
      "(1.6-0.2j)\n"
     ]
    }
   ],
   "source": [
    "com1 = 2+3j\n",
    "com2 = 1+2j\n",
    "print(com1/com2)\n"
   ]
  },
  {
   "cell_type": "markdown",
   "id": "9d5128d6-9d0b-44bf-a5b0-a74905241738",
   "metadata": {},
   "source": [
    "# Modulus"
   ]
  },
  {
   "cell_type": "code",
   "execution_count": 19,
   "id": "28acfc35-62c7-4db7-a86c-c2e06768e57d",
   "metadata": {},
   "outputs": [
    {
     "name": "stdout",
     "output_type": "stream",
     "text": [
      "0\n"
     ]
    }
   ],
   "source": [
    "print(12%3)"
   ]
  },
  {
   "cell_type": "code",
   "execution_count": 20,
   "id": "29150350-e458-40c9-bde6-1cd39c07b389",
   "metadata": {},
   "outputs": [
    {
     "name": "stdout",
     "output_type": "stream",
     "text": [
      "4\n"
     ]
    }
   ],
   "source": [
    "print(19%5)"
   ]
  },
  {
   "cell_type": "code",
   "execution_count": 21,
   "id": "509664c2-6405-4e53-9605-ea8a4fd7ba40",
   "metadata": {},
   "outputs": [
    {
     "name": "stdout",
     "output_type": "stream",
     "text": [
      "0.05500000000001304\n"
     ]
    }
   ],
   "source": [
    "a1 = 456.455\n",
    "b1 = 2.8\n",
    "print(a1%b1)"
   ]
  },
  {
   "cell_type": "code",
   "execution_count": 22,
   "id": "3c0b8530-b40f-4593-8d04-74931ffe990f",
   "metadata": {},
   "outputs": [
    {
     "ename": "TypeError",
     "evalue": "unsupported operand type(s) for %: 'complex' and 'complex'",
     "output_type": "error",
     "traceback": [
      "\u001b[1;31m---------------------------------------------------------------------------\u001b[0m",
      "\u001b[1;31mTypeError\u001b[0m                                 Traceback (most recent call last)",
      "Cell \u001b[1;32mIn[22], line 3\u001b[0m\n\u001b[0;32m      1\u001b[0m a \u001b[38;5;241m=\u001b[39m \u001b[38;5;241m5\u001b[39m\u001b[38;5;241m+\u001b[39m\u001b[38;5;241m3\u001b[39mj\n\u001b[0;32m      2\u001b[0m b \u001b[38;5;241m=\u001b[39m \u001b[38;5;241m3\u001b[39m\u001b[38;5;241m+\u001b[39m\u001b[38;5;241m2\u001b[39mj\n\u001b[1;32m----> 3\u001b[0m \u001b[38;5;28mprint\u001b[39m(a\u001b[38;5;241m%\u001b[39mb)\n",
      "\u001b[1;31mTypeError\u001b[0m: unsupported operand type(s) for %: 'complex' and 'complex'"
     ]
    }
   ],
   "source": [
    "a = 5+3j\n",
    "b = 3+2j\n",
    "print(a%b)"
   ]
  },
  {
   "cell_type": "markdown",
   "id": "8ab40317-e111-4be7-bf74-6d93d08ee2b9",
   "metadata": {},
   "source": [
    "# floor division"
   ]
  },
  {
   "cell_type": "code",
   "execution_count": 23,
   "id": "66a5a3ba-55b9-4b2d-975f-28d6dd269e6d",
   "metadata": {},
   "outputs": [
    {
     "name": "stdout",
     "output_type": "stream",
     "text": [
      "4\n"
     ]
    }
   ],
   "source": [
    "print(12//3)"
   ]
  },
  {
   "cell_type": "code",
   "execution_count": 24,
   "id": "b7f5c4c3-1759-4129-b233-07fa7273b4d0",
   "metadata": {},
   "outputs": [
    {
     "name": "stdout",
     "output_type": "stream",
     "text": [
      "94\n"
     ]
    }
   ],
   "source": [
    "print(4236//45)"
   ]
  },
  {
   "cell_type": "markdown",
   "id": "4242474d-03d9-4060-8f2a-19ea7e7b7eeb",
   "metadata": {},
   "source": [
    "# Exponent"
   ]
  },
  {
   "cell_type": "code",
   "execution_count": 25,
   "id": "12cc8551-2fdd-4c98-bed6-8e5c755aa2ef",
   "metadata": {},
   "outputs": [
    {
     "name": "stdout",
     "output_type": "stream",
     "text": [
      "9\n"
     ]
    }
   ],
   "source": [
    "a = 3\n",
    "b = 2\n",
    "print(a**b)"
   ]
  },
  {
   "cell_type": "code",
   "execution_count": 26,
   "id": "1cad4661-b0c0-41e0-8578-3013ed39ab21",
   "metadata": {},
   "outputs": [
    {
     "name": "stdout",
     "output_type": "stream",
     "text": [
      "1882634513.3195355\n"
     ]
    }
   ],
   "source": [
    "print(1234.7774**3)"
   ]
  },
  {
   "cell_type": "code",
   "execution_count": 27,
   "id": "28fb391b-388e-42d6-bd7d-73fd3991aede",
   "metadata": {},
   "outputs": [
    {
     "name": "stdout",
     "output_type": "stream",
     "text": [
      "2.4\n"
     ]
    }
   ],
   "source": [
    "w  = 60\n",
    "h = 5\n",
    "v = h**2\n",
    "print(w/v)"
   ]
  },
  {
   "cell_type": "markdown",
   "id": "8ab962ef-1ca8-4507-84ed-7c8c9a650c60",
   "metadata": {},
   "source": [
    "# Boolean Operator - True/ False"
   ]
  },
  {
   "cell_type": "code",
   "execution_count": 28,
   "id": "5772d4a4-8206-4dd1-95e0-22ce439629c4",
   "metadata": {},
   "outputs": [
    {
     "name": "stdout",
     "output_type": "stream",
     "text": [
      "<class 'bool'>\n"
     ]
    }
   ],
   "source": [
    "a = True\n",
    "print(type(a))"
   ]
  },
  {
   "cell_type": "code",
   "execution_count": 29,
   "id": "061ab02f-0901-4d83-a9c5-ab82de9defb5",
   "metadata": {},
   "outputs": [
    {
     "name": "stdout",
     "output_type": "stream",
     "text": [
      "<class 'bool'>\n"
     ]
    }
   ],
   "source": [
    "b = False\n",
    "print(type(b))"
   ]
  },
  {
   "cell_type": "markdown",
   "id": "4812e69e-34b6-4391-9cda-9273edd3a656",
   "metadata": {},
   "source": [
    "# Comparision Operator"
   ]
  },
  {
   "cell_type": "code",
   "execution_count": 30,
   "id": "1b31a1e1-26e6-4d82-afe9-be69aa485469",
   "metadata": {},
   "outputs": [],
   "source": [
    "# Comparision Operators are used to compare values,Thease operators return true or Flase based don whether the compasrision is true or false"
   ]
  },
  {
   "cell_type": "code",
   "execution_count": 31,
   "id": "b8e0e3ca-b6dd-404f-8d6c-0dd7d25db3de",
   "metadata": {},
   "outputs": [
    {
     "name": "stdout",
     "output_type": "stream",
     "text": [
      "True\n"
     ]
    }
   ],
   "source": [
    "x = 5\n",
    "y = 5\n",
    "print(x==y)"
   ]
  },
  {
   "cell_type": "code",
   "execution_count": 32,
   "id": "b2e92609-3c11-4034-80db-f6870b0daedf",
   "metadata": {},
   "outputs": [
    {
     "name": "stdout",
     "output_type": "stream",
     "text": [
      "False\n"
     ]
    }
   ],
   "source": [
    "x = 5\n",
    "y = 6\n",
    "print(x==y)"
   ]
  },
  {
   "cell_type": "code",
   "execution_count": 33,
   "id": "0a7677d5-2b6e-4bcc-81db-1296f49fcb59",
   "metadata": {},
   "outputs": [],
   "source": [
    "# not equal !=\n"
   ]
  },
  {
   "cell_type": "code",
   "execution_count": 34,
   "id": "e6aa483f-0147-4923-a6a0-12dd6dfdfe9b",
   "metadata": {},
   "outputs": [
    {
     "name": "stdout",
     "output_type": "stream",
     "text": [
      "True\n"
     ]
    }
   ],
   "source": [
    "x = 5\n",
    "y = 3\n",
    "print(x!=y)"
   ]
  },
  {
   "cell_type": "code",
   "execution_count": 35,
   "id": "bb6c9538-7148-4c54-87f3-a2193018d43d",
   "metadata": {},
   "outputs": [
    {
     "name": "stdout",
     "output_type": "stream",
     "text": [
      "False\n"
     ]
    }
   ],
   "source": [
    "x = 5\n",
    "y = 5\n",
    "print(x!=y)"
   ]
  },
  {
   "cell_type": "code",
   "execution_count": 37,
   "id": "c6a5079e-c59f-48fa-909c-6fa94bc0a258",
   "metadata": {},
   "outputs": [],
   "source": [
    "# greater than >"
   ]
  },
  {
   "cell_type": "code",
   "execution_count": 38,
   "id": "a0173ebb-83ad-4d3d-a423-8e869fc86756",
   "metadata": {},
   "outputs": [
    {
     "name": "stdout",
     "output_type": "stream",
     "text": [
      "True\n"
     ]
    }
   ],
   "source": [
    "x = 5\n",
    "y = 3\n",
    "print(x>y)"
   ]
  },
  {
   "cell_type": "code",
   "execution_count": 39,
   "id": "3e56b8aa-beb6-4cce-8335-b5667e245581",
   "metadata": {},
   "outputs": [],
   "source": [
    "# less than <"
   ]
  },
  {
   "cell_type": "code",
   "execution_count": 40,
   "id": "c0131762-49f2-4f50-80b3-20f8be0c5735",
   "metadata": {},
   "outputs": [
    {
     "name": "stdout",
     "output_type": "stream",
     "text": [
      "False\n"
     ]
    }
   ],
   "source": [
    "x = 5\n",
    "y = 3\n",
    "print(x<y)"
   ]
  },
  {
   "cell_type": "code",
   "execution_count": 41,
   "id": "49b8c778-2919-4b1f-a1d4-29bcc6fb531f",
   "metadata": {},
   "outputs": [],
   "source": [
    "# greater than or equal to >="
   ]
  },
  {
   "cell_type": "code",
   "execution_count": 42,
   "id": "713b6d80-605c-4839-8233-78f70a745732",
   "metadata": {},
   "outputs": [
    {
     "name": "stdout",
     "output_type": "stream",
     "text": [
      "True\n"
     ]
    }
   ],
   "source": [
    "x = 5 \n",
    "y = 5\n",
    "print(x>=y)"
   ]
  },
  {
   "cell_type": "code",
   "execution_count": 43,
   "id": "c33cacae-1a20-420c-b71a-3fcdbb9ef7e1",
   "metadata": {},
   "outputs": [],
   "source": [
    "# less than equal to <="
   ]
  },
  {
   "cell_type": "code",
   "execution_count": 44,
   "id": "1b4520cf-5e90-4bbe-a432-0ebc6a029d4a",
   "metadata": {},
   "outputs": [
    {
     "name": "stdout",
     "output_type": "stream",
     "text": [
      "True\n"
     ]
    }
   ],
   "source": [
    "x = 5\n",
    "y = 5\n",
    "print(x<=y)"
   ]
  },
  {
   "cell_type": "markdown",
   "id": "da4539d5-db7c-47f9-94e8-4bc4e16962c0",
   "metadata": {},
   "source": [
    "# Logical Operator"
   ]
  },
  {
   "cell_type": "code",
   "execution_count": 45,
   "id": "50473fb7-7478-46a7-8bac-692777499114",
   "metadata": {},
   "outputs": [
    {
     "name": "stdout",
     "output_type": "stream",
     "text": [
      "False\n"
     ]
    }
   ],
   "source": [
    "x = True\n",
    "y = False\n",
    "print(x and y)"
   ]
  },
  {
   "cell_type": "code",
   "execution_count": 46,
   "id": "01759f3c-db2c-4ede-baa7-32c012535eb8",
   "metadata": {},
   "outputs": [
    {
     "name": "stdout",
     "output_type": "stream",
     "text": [
      "True\n"
     ]
    }
   ],
   "source": [
    "x = True\n",
    "y = False\n",
    "print(x or y)"
   ]
  },
  {
   "cell_type": "code",
   "execution_count": 47,
   "id": "e7a62644-6f47-46f5-ba33-2874a4e2463d",
   "metadata": {},
   "outputs": [
    {
     "name": "stdout",
     "output_type": "stream",
     "text": [
      "False\n"
     ]
    }
   ],
   "source": [
    "x = True\n",
    "print(not x)"
   ]
  },
  {
   "cell_type": "code",
   "execution_count": 48,
   "id": "471bfd17-cd1b-42a7-aedd-e07d4652aab4",
   "metadata": {},
   "outputs": [
    {
     "name": "stdout",
     "output_type": "stream",
     "text": [
      "True\n"
     ]
    }
   ],
   "source": [
    "x = False\n",
    "print(not x)"
   ]
  },
  {
   "cell_type": "code",
   "execution_count": 50,
   "id": "29548f99-1a31-421c-9595-ff398479fa86",
   "metadata": {},
   "outputs": [
    {
     "name": "stdout",
     "output_type": "stream",
     "text": [
      "The price of product1 is 1250\n",
      "The price of product2 is 16400\n",
      "The price of product3 is 9316\n",
      "The total price the customer need to pay is 26966\n"
     ]
    }
   ],
   "source": [
    "product_1 = 5*250\n",
    "product_2 = 25*656\n",
    "product_3 = 34*274\n",
    "print('The price of product1 is', product_1)\n",
    "print('The price of product2 is', product_2)\n",
    "print('The price of product3 is', product_3)\n",
    "print('The total price the customer need to pay is', product_1+product_2+product_3)"
   ]
  },
  {
   "cell_type": "code",
   "execution_count": 52,
   "id": "7c0cf4c1-c481-4a5f-9a9d-2fb083c0e59b",
   "metadata": {},
   "outputs": [
    {
     "name": "stdout",
     "output_type": "stream",
     "text": [
      "the simple intrest is 360000.0\n",
      "True\n"
     ]
    }
   ],
   "source": [
    "R = 8\n",
    "P = 1500000\n",
    "T = 3\n",
    "Threshold = 120000\n",
    "SI = (P*R*T)/100\n",
    "print('the simple intrest is', SI)\n",
    "print(SI>Threshold)"
   ]
  },
  {
   "cell_type": "code",
   "execution_count": 53,
   "id": "52c46aa2-e66f-4733-9a4c-1ec95b543633",
   "metadata": {},
   "outputs": [
    {
     "name": "stdout",
     "output_type": "stream",
     "text": [
      "area of circle is 452.15999999999997\n"
     ]
    }
   ],
   "source": [
    "r = 12\n",
    "pi = 3.14\n",
    "area = pi*r*r\n",
    "print('area of circle is', area)"
   ]
  },
  {
   "cell_type": "code",
   "execution_count": null,
   "id": "ea83bb6a-fc2b-403e-aa93-6add0538cdfd",
   "metadata": {},
   "outputs": [],
   "source": []
  }
 ],
 "metadata": {
  "kernelspec": {
   "display_name": "Python 3 (ipykernel)",
   "language": "python",
   "name": "python3"
  },
  "language_info": {
   "codemirror_mode": {
    "name": "ipython",
    "version": 3
   },
   "file_extension": ".py",
   "mimetype": "text/x-python",
   "name": "python",
   "nbconvert_exporter": "python",
   "pygments_lexer": "ipython3",
   "version": "3.11.7"
  }
 },
 "nbformat": 4,
 "nbformat_minor": 5
}
