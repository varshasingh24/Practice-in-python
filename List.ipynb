{
 "cells": [
  {
   "cell_type": "markdown",
   "id": "49696cda-28f7-458e-8f60-cafbc275b971",
   "metadata": {},
   "source": [
    "# List part 1"
   ]
  },
  {
   "cell_type": "markdown",
   "id": "2fd51953-bc9a-4a16-833b-c1148a97acd3",
   "metadata": {},
   "source": [
    "# creating a list "
   ]
  },
  {
   "cell_type": "code",
   "execution_count": 1,
   "id": "9afdd41b-8dca-40b3-8191-257522dc1c36",
   "metadata": {},
   "outputs": [
    {
     "name": "stdout",
     "output_type": "stream",
     "text": [
      "['a', 'b', 'c']\n",
      "<class 'list'>\n"
     ]
    }
   ],
   "source": [
    "mylist = ['a', 'b', 'c']\n",
    "print(mylist)\n",
    "print(type(mylist))"
   ]
  },
  {
   "cell_type": "markdown",
   "id": "f9569128-ee9a-4ef5-823a-97ed03cfc85d",
   "metadata": {},
   "source": [
    "# properties of list"
   ]
  },
  {
   "cell_type": "markdown",
   "id": "9c09df23-2dfb-4cb2-b293-78b103e3fb7c",
   "metadata": {},
   "source": [
    "# 1. Ordered"
   ]
  },
  {
   "cell_type": "code",
   "execution_count": 2,
   "id": "d2bd9cba-a23c-4a77-93ad-cbef91229990",
   "metadata": {},
   "outputs": [
    {
     "name": "stdout",
     "output_type": "stream",
     "text": [
      "mango\n"
     ]
    }
   ],
   "source": [
    "fruits = ['mango', 'orange', 'cherry']\n",
    "print(fruits[0])"
   ]
  },
  {
   "cell_type": "code",
   "execution_count": 3,
   "id": "98fe7862-090c-4a11-8a21-e26c35ac38c6",
   "metadata": {},
   "outputs": [
    {
     "name": "stdout",
     "output_type": "stream",
     "text": [
      "orange\n"
     ]
    }
   ],
   "source": [
    "fruits = ['mango', 'orange', 'cherry']\n",
    "print(fruits[1])"
   ]
  },
  {
   "cell_type": "code",
   "execution_count": 4,
   "id": "8704b72a-a529-42da-ae60-b1af327c0e6f",
   "metadata": {},
   "outputs": [
    {
     "name": "stdout",
     "output_type": "stream",
     "text": [
      "cherry\n"
     ]
    }
   ],
   "source": [
    "fruits = ['mango', 'orange', 'cherry']\n",
    "print(fruits[2])"
   ]
  },
  {
   "cell_type": "markdown",
   "id": "311d00ff-b53f-485c-8c42-7a5dbb4c903d",
   "metadata": {},
   "source": [
    "# 2. Hetrogenous"
   ]
  },
  {
   "cell_type": "code",
   "execution_count": 5,
   "id": "45b1ff9c-a8ba-4d48-9233-3ae0a9b90e8c",
   "metadata": {},
   "outputs": [
    {
     "name": "stdout",
     "output_type": "stream",
     "text": [
      "1.23\n"
     ]
    }
   ],
   "source": [
    "mixed_list = [1, 'hello', 1.23]\n",
    "print(mixed_list[2])"
   ]
  },
  {
   "cell_type": "markdown",
   "id": "7e753cd7-4071-456d-9047-01f53c046a1a",
   "metadata": {},
   "source": [
    "# list items - data types"
   ]
  },
  {
   "cell_type": "code",
   "execution_count": 6,
   "id": "024b1610-4ae3-458d-ad3c-70a8284188d7",
   "metadata": {},
   "outputs": [
    {
     "name": "stdout",
     "output_type": "stream",
     "text": [
      "['apple', 'banana']\n"
     ]
    }
   ],
   "source": [
    "list1 = ['apple', 'banana']\n",
    "list2 = [1,2,3]\n",
    "list3 = [True, False]\n",
    "print(list1)"
   ]
  },
  {
   "cell_type": "markdown",
   "id": "e6c17752-a211-45d4-8963-23edd6ad9f89",
   "metadata": {},
   "source": [
    "# 3. Indexed"
   ]
  },
  {
   "cell_type": "code",
   "execution_count": 7,
   "id": "2ffb393b-6b46-47f6-b1b8-f89419bed29c",
   "metadata": {},
   "outputs": [
    {
     "name": "stdout",
     "output_type": "stream",
     "text": [
      "cat\n"
     ]
    }
   ],
   "source": [
    "animals = ['cat', 'dog', 'bird', 'fish']\n",
    "print(animals[0])"
   ]
  },
  {
   "cell_type": "code",
   "execution_count": 8,
   "id": "a8e5d7b9-2abf-4a58-b0bc-66f135c453aa",
   "metadata": {},
   "outputs": [
    {
     "name": "stdout",
     "output_type": "stream",
     "text": [
      "bird\n"
     ]
    }
   ],
   "source": [
    "print(animals[-2])"
   ]
  },
  {
   "cell_type": "markdown",
   "id": "e7ae4d83-594a-4c20-bf6d-a0a2b483a347",
   "metadata": {},
   "source": [
    "# Slicing"
   ]
  },
  {
   "cell_type": "markdown",
   "id": "3b8501c1-3b4e-4406-87c3-03b37a0aa32d",
   "metadata": {},
   "source": [
    "# basic slicing"
   ]
  },
  {
   "cell_type": "code",
   "execution_count": 10,
   "id": "e0919547-e8a5-4a92-b494-203e5f9474aa",
   "metadata": {},
   "outputs": [
    {
     "name": "stdout",
     "output_type": "stream",
     "text": [
      "[10, 15, 12, 13]\n"
     ]
    }
   ],
   "source": [
    "numbers = [10, 15, 12, 13, 14, 15, 16]\n",
    "print(numbers[0:4])"
   ]
  },
  {
   "cell_type": "markdown",
   "id": "657e5a98-bd7d-4c89-94a6-931923177c21",
   "metadata": {},
   "source": [
    "# omiting slicing"
   ]
  },
  {
   "cell_type": "code",
   "execution_count": 12,
   "id": "e5267534-747d-4c3a-801a-33d6be8d06e2",
   "metadata": {},
   "outputs": [
    {
     "name": "stdout",
     "output_type": "stream",
     "text": [
      "[10, 11, 12, 13]\n"
     ]
    }
   ],
   "source": [
    "numbers = [10, 11, 12, 13, 14, 15, 16]\n",
    "print(numbers[:4])"
   ]
  },
  {
   "cell_type": "code",
   "execution_count": 13,
   "id": "b9b6d211-4da6-4932-aaa4-247cbc0d1a86",
   "metadata": {},
   "outputs": [
    {
     "name": "stdout",
     "output_type": "stream",
     "text": [
      "[10, 11, 12, 13, 14, 15, 16]\n"
     ]
    }
   ],
   "source": [
    "numbers = [10, 11, 12, 13, 14, 15, 16]\n",
    "print(numbers[:])"
   ]
  },
  {
   "cell_type": "markdown",
   "id": "c29e08dd-0109-463b-9706-e4a9f0774d09",
   "metadata": {},
   "source": [
    "# negative indexing"
   ]
  },
  {
   "cell_type": "code",
   "execution_count": 14,
   "id": "d5e73b12-054d-4cf9-9c60-119ceabde59d",
   "metadata": {},
   "outputs": [
    {
     "name": "stdout",
     "output_type": "stream",
     "text": [
      "[12, 13, 14, 15, 16]\n"
     ]
    }
   ],
   "source": [
    "numbers = [10, 11, 12, 13, 14, 15, 16]\n",
    "print(numbers[-5:])"
   ]
  },
  {
   "cell_type": "code",
   "execution_count": 17,
   "id": "acbb4dd1-5b5c-4ef8-b4c2-26655a32591a",
   "metadata": {},
   "outputs": [
    {
     "name": "stdout",
     "output_type": "stream",
     "text": [
      "[10, 12, 14, 16]\n"
     ]
    }
   ],
   "source": [
    "numbers = [10, 11, 12, 13, 14, 15, 16]\n",
    "print(numbers[::2])"
   ]
  },
  {
   "cell_type": "markdown",
   "id": "38baabbc-914f-48d7-857f-a2ef501334dd",
   "metadata": {},
   "source": [
    "# Practice Question"
   ]
  },
  {
   "cell_type": "code",
   "execution_count": 18,
   "id": "a5238eed-ddbf-4d09-86d6-bc1a7da08c0f",
   "metadata": {},
   "outputs": [
    {
     "name": "stdout",
     "output_type": "stream",
     "text": [
      "[89, 76, 93, 72]\n"
     ]
    }
   ],
   "source": [
    "scores = [55, 89, 76, 65, 93, 50, 72]\n",
    "high_score = []\n",
    "\n",
    "for score in scores:\n",
    "    if score > 70:\n",
    "        high_score.append(score)\n",
    "    else:\n",
    "        pass\n",
    "print(high_score)"
   ]
  },
  {
   "cell_type": "code",
   "execution_count": 23,
   "id": "e2630e6a-4a28-4d14-9bba-f5dad1cf311f",
   "metadata": {},
   "outputs": [
    {
     "name": "stdout",
     "output_type": "stream",
     "text": [
      "the sum of first five items is 15\n",
      "[10, 9, 8, 7, 6, 5, 4, 3, 2, 1]\n"
     ]
    }
   ],
   "source": [
    "data = [1, 2,3, 4, 5, 6, 7, 8, 9, 10]\n",
    "sum_first_five = sum(data[:5])\n",
    "print('the sum of first five items is', sum_first_five)\n",
    "\n",
    "reverse = data[::-1]\n",
    "print(reverse)"
   ]
  },
  {
   "cell_type": "markdown",
   "id": "c19d1ae1-246c-4686-8281-e4c77248b657",
   "metadata": {},
   "source": [
    "# List part 2 "
   ]
  },
  {
   "cell_type": "markdown",
   "id": "fa5b430f-292c-47c4-89a8-e9674e8c048b",
   "metadata": {},
   "source": [
    "# length method "
   ]
  },
  {
   "cell_type": "code",
   "execution_count": 1,
   "id": "4d3b229a-2865-40be-9282-d22821b802af",
   "metadata": {},
   "outputs": [
    {
     "name": "stdout",
     "output_type": "stream",
     "text": [
      "10\n"
     ]
    }
   ],
   "source": [
    "a = [3,4,5,6,7,8,9,'data', 6.8, 8.0]\n",
    "print(len(a))"
   ]
  },
  {
   "cell_type": "markdown",
   "id": "8a07348a-27a6-49ac-9bcc-b79ddf88f7b3",
   "metadata": {},
   "source": [
    "# mutability property of list"
   ]
  },
  {
   "cell_type": "markdown",
   "id": "2c809ffe-ef97-4363-b646-22af04bba633",
   "metadata": {},
   "source": [
    "# changing elements"
   ]
  },
  {
   "cell_type": "code",
   "execution_count": 3,
   "id": "10cc717d-5803-4a3a-83e8-e903a4382dad",
   "metadata": {},
   "outputs": [
    {
     "name": "stdout",
     "output_type": "stream",
     "text": [
      "[1, 2, 10, 4, 5]\n"
     ]
    }
   ],
   "source": [
    "my_list = [1,2,3,4,5]\n",
    "my_list[2] = 10\n",
    "print(my_list)"
   ]
  },
  {
   "cell_type": "code",
   "execution_count": 5,
   "id": "77ee8d76-e16e-4858-9b98-ca623238679f",
   "metadata": {},
   "outputs": [
    {
     "name": "stdout",
     "output_type": "stream",
     "text": [
      "[1, 2, 3, 'hello', 5]\n"
     ]
    }
   ],
   "source": [
    "my_list = [1,2,3,4,5]\n",
    "my_list[3]='hello'\n",
    "print(my_list)"
   ]
  },
  {
   "cell_type": "markdown",
   "id": "565d5264-a0b2-416b-a944-f62a7aaea843",
   "metadata": {},
   "source": [
    "# change a range of item values"
   ]
  },
  {
   "cell_type": "code",
   "execution_count": 6,
   "id": "c7006a25-0cdb-45b0-bf80-852a5f3e1d4b",
   "metadata": {},
   "outputs": [
    {
     "name": "stdout",
     "output_type": "stream",
     "text": [
      "[12, 13, 'books', 'pen', 'pencil', 16, 17, 18, 19, 20, 21]\n"
     ]
    }
   ],
   "source": [
    "a = [12,13,14,15,16,17,18,19,20,21]\n",
    "a[2:4] = ['books', 'pen', 'pencil']\n",
    "print(a)"
   ]
  },
  {
   "cell_type": "markdown",
   "id": "f47c29f8-8024-470e-abc4-4d6515141cf5",
   "metadata": {},
   "source": [
    "# Add list items"
   ]
  },
  {
   "cell_type": "code",
   "execution_count": 7,
   "id": "dd236db7-29f0-4a9c-b4c1-c05715662066",
   "metadata": {},
   "outputs": [
    {
     "name": "stdout",
     "output_type": "stream",
     "text": [
      "['apple', 'banana', 'cherry', 'orange']\n"
     ]
    }
   ],
   "source": [
    "thislist = ['apple', 'banana', 'cherry']\n",
    "thislist.append('orange')\n",
    "print(thislist)"
   ]
  },
  {
   "cell_type": "code",
   "execution_count": 8,
   "id": "4ae972bd-c761-4105-8edd-fbea70ea2bf5",
   "metadata": {},
   "outputs": [
    {
     "name": "stdout",
     "output_type": "stream",
     "text": [
      "[14, 15, 16, 17, 18, 89, 45, -20]\n"
     ]
    }
   ],
   "source": [
    "a = [14,15,16,17,18,89,45]\n",
    "a.append(-20)\n",
    "print(a)"
   ]
  },
  {
   "cell_type": "markdown",
   "id": "c420720b-6ee6-4865-82b8-28e4f8aaa8be",
   "metadata": {},
   "source": [
    "# remove the items"
   ]
  },
  {
   "cell_type": "code",
   "execution_count": 9,
   "id": "0953187e-f7dc-4f55-a679-f64c7855cac0",
   "metadata": {},
   "outputs": [
    {
     "name": "stdout",
     "output_type": "stream",
     "text": [
      "[4, 8, 94, 89, 4, 84, 894, 9, 4, 49]\n"
     ]
    }
   ],
   "source": [
    "a = [4,8,21,94,89,4,84,894,9,4,49]\n",
    "a.remove(21)\n",
    "print(a)"
   ]
  },
  {
   "cell_type": "markdown",
   "id": "e55d5d28-eddb-4095-b433-478933ebeaed",
   "metadata": {},
   "source": [
    "# Join the list"
   ]
  },
  {
   "cell_type": "code",
   "execution_count": 10,
   "id": "787d9528-c668-4dcd-a924-b711eb0a4388",
   "metadata": {},
   "outputs": [
    {
     "name": "stdout",
     "output_type": "stream",
     "text": [
      "[1, 2, 3, 14, 15, 16]\n"
     ]
    }
   ],
   "source": [
    "list1 = [1,2,3]\n",
    "list2 = [14,15,16]\n",
    "print(list1 + list2)"
   ]
  },
  {
   "cell_type": "markdown",
   "id": "3b95af55-b98f-44c8-905b-e22ff86711f7",
   "metadata": {},
   "source": [
    "# check if a list contains an element"
   ]
  },
  {
   "cell_type": "code",
   "execution_count": 11,
   "id": "54062dba-0fa8-4e8f-b2d3-8d74ff2136fa",
   "metadata": {},
   "outputs": [
    {
     "data": {
      "text/plain": [
       "True"
      ]
     },
     "execution_count": 11,
     "metadata": {},
     "output_type": "execute_result"
    }
   ],
   "source": [
    "a = [25,24,26,89,3,6,5,8,'hello', 'python', 5.6]\n",
    "3 in a"
   ]
  },
  {
   "cell_type": "code",
   "execution_count": 12,
   "id": "300b4aee-7f8c-4049-8f8b-7ce1a61652ca",
   "metadata": {},
   "outputs": [
    {
     "data": {
      "text/plain": [
       "False"
      ]
     },
     "execution_count": 12,
     "metadata": {},
     "output_type": "execute_result"
    }
   ],
   "source": [
    "a = [25,24,26,89,3,6,5,8,'hello', 'python', 5.6]\n",
    "5.2 in a"
   ]
  },
  {
   "cell_type": "markdown",
   "id": "e05b5fde-b0d9-46b6-8c5e-d1bb3d9c4f1a",
   "metadata": {},
   "source": [
    "# reversing a list"
   ]
  },
  {
   "cell_type": "code",
   "execution_count": 14,
   "id": "ddc48e2e-ac47-42c2-a68b-79cf3308e23e",
   "metadata": {},
   "outputs": [
    {
     "name": "stdout",
     "output_type": "stream",
     "text": [
      "[123, 2, 56, 34, 69, 98, 35, 8878, 45, 1]\n"
     ]
    }
   ],
   "source": [
    "a = [1,45,8878,35,98,69,34,56,2,123]\n",
    "a.reverse()\n",
    "print(a)"
   ]
  },
  {
   "cell_type": "markdown",
   "id": "33541de6-d1b7-43a9-bd3e-77d48cb85b1e",
   "metadata": {},
   "source": [
    "# Practice questions"
   ]
  },
  {
   "cell_type": "code",
   "execution_count": 15,
   "id": "4eb2f876-caf0-4804-9cbe-fd6168b2202c",
   "metadata": {},
   "outputs": [
    {
     "name": "stdout",
     "output_type": "stream",
     "text": [
      "['Yes', 'No', 'Maybe', 'Yes', 'No']\n"
     ]
    }
   ],
   "source": [
    "responses = ['Yes', '', 'No', '', 'Maybe', '', '', 'Yes', 'No']\n",
    "clean = []\n",
    "for response in responses:\n",
    "    if response != '':\n",
    "        clean.append(response)\n",
    "    else:\n",
    "        pass\n",
    "print(clean)\n",
    "    "
   ]
  },
  {
   "cell_type": "code",
   "execution_count": 16,
   "id": "5dfd79f7-2746-4444-a05b-0574521fc14e",
   "metadata": {},
   "outputs": [
    {
     "name": "stdout",
     "output_type": "stream",
     "text": [
      "The average score of class 1 is 86.6\n",
      "The average score of class 2 is 80.2\n"
     ]
    }
   ],
   "source": [
    "class1_score = [85,90,88,92,78]\n",
    "class2_score = [75,82,80,85,79]\n",
    "\n",
    "class1_average = sum(class1_score)/len(class1_score)\n",
    "class2_average = sum(class2_score)/len(class2_score)\n",
    "\n",
    "print('The average score of class 1 is', class1_average )\n",
    "print('The average score of class 2 is', class2_average )"
   ]
  },
  {
   "cell_type": "code",
   "execution_count": 17,
   "id": "d67425da-6305-49a6-b5f2-db6a5b5d3e4d",
   "metadata": {},
   "outputs": [
    {
     "name": "stdout",
     "output_type": "stream",
     "text": [
      "[[1, 2], [3, 4], [5, 6], [7, 8], [9, 10]]\n"
     ]
    }
   ],
   "source": [
    "list1 = [[1,2], [3,4], [5,6]]\n",
    "list2 = [[7,8], [9,10]]\n",
    "\n",
    "print(list1 + list2)"
   ]
  },
  {
   "cell_type": "code",
   "execution_count": 19,
   "id": "a8d7b417-cda0-4e39-afa0-fb2cf63268ec",
   "metadata": {},
   "outputs": [
    {
     "name": "stdout",
     "output_type": "stream",
     "text": [
      "Hello, world!\n",
      "Python is awesome!\n",
      "I love coding!\n"
     ]
    }
   ],
   "source": [
    "sentences = ['Hello, world!', 'Python is awesome!', 'I love coding!']\n",
    "\n",
    "print(sentences[0])\n",
    "print(sentences[1])\n",
    "print(sentences[2])"
   ]
  },
  {
   "cell_type": "markdown",
   "id": "70e7aec7-cfee-450e-bc85-8504d527d7f2",
   "metadata": {},
   "source": [
    "# Practice Questions"
   ]
  },
  {
   "cell_type": "code",
   "execution_count": 24,
   "id": "257a6757-098c-464d-b73d-8dbe34f18ac8",
   "metadata": {},
   "outputs": [
    {
     "name": "stdout",
     "output_type": "stream",
     "text": [
      "[10, 20, 30, 40, 50, 60]\n",
      "[5, 10, 20, 30, 40, 50, 60]\n",
      "[5, 10, 20, 40, 50, 60]\n",
      "Modifies list is [5, 10, 20, 40, 50, 60]\n"
     ]
    }
   ],
   "source": [
    "data_points = [10, 20, 30, 40, 50]\n",
    "data_points.append(60)\n",
    "print(data_points)\n",
    "\n",
    "data_points.insert(0,5)\n",
    "print(data_points)\n",
    "\n",
    "data_points.remove(30)\n",
    "print(data_points)\n",
    "\n",
    "print('Modifies list is', data_points)"
   ]
  },
  {
   "cell_type": "code",
   "execution_count": null,
   "id": "8a690a5c-a46e-4c5b-8200-78d31a5cfb2d",
   "metadata": {},
   "outputs": [
    {
     "name": "stdin",
     "output_type": "stream",
     "text": [
      "Enter the number of students 5\n"
     ]
    }
   ],
   "source": [
    "num_students = int(input('Enter the number of students'))\n",
    "\n",
    "course_credits = []\n",
    "\n",
    "for i in range(num_students):\n",
    "    credits = int(input('Enter the course credit for student:'))\n",
    "    course_credits.append(credits)\n",
    "\n",
    "enrollement_status = []\n",
    "for credits in course_credits:\n",
    "    if credits >= 112:\n",
    "        enrollemet_status.append('full_time')\n",
    "    else:\n",
    "        enrollement_status.append('part_time')\n",
    "\n",
    "for i in range(num_students):\n",
    "    print(f'student{i+1}: enrollement status - {enrollement_status[i]}')"
   ]
  },
  {
   "cell_type": "code",
   "execution_count": null,
   "id": "703aa25c-9468-42de-855a-6f001dd21cca",
   "metadata": {},
   "outputs": [],
   "source": []
  }
 ],
 "metadata": {
  "kernelspec": {
   "display_name": "Python 3 (ipykernel)",
   "language": "python",
   "name": "python3"
  },
  "language_info": {
   "codemirror_mode": {
    "name": "ipython",
    "version": 3
   },
   "file_extension": ".py",
   "mimetype": "text/x-python",
   "name": "python",
   "nbconvert_exporter": "python",
   "pygments_lexer": "ipython3",
   "version": "3.11.7"
  }
 },
 "nbformat": 4,
 "nbformat_minor": 5
}
