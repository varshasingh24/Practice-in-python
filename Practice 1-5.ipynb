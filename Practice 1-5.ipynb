{
 "cells": [
  {
   "cell_type": "markdown",
   "id": "2179d909-904f-46c8-a330-a912b81c5fce",
   "metadata": {},
   "source": [
    "# Practice Question from lecture 1 to 5"
   ]
  },
  {
   "cell_type": "code",
   "execution_count": 1,
   "id": "45d04509-4d15-4a08-ab5e-e7bc3be125e9",
   "metadata": {},
   "outputs": [
    {
     "data": {
      "text/plain": [
       "' Fundamentals of data science & python\\n    Variables & data types\\n    Operators in python\\n    Built in Functions '"
      ]
     },
     "execution_count": 1,
     "metadata": {},
     "output_type": "execute_result"
    }
   ],
   "source": [
    "\"\"\" Fundamentals of data science & python\n",
    "    Variables & data types\n",
    "    Operators in python\n",
    "    Built in Functions \"\"\""
   ]
  },
  {
   "cell_type": "code",
   "execution_count": 6,
   "id": "f0df6315-8121-4957-bcee-4aa6f038fdee",
   "metadata": {},
   "outputs": [
    {
     "name": "stdin",
     "output_type": "stream",
     "text": [
      "Enter the mathematical operation 69*23+12-7/23\n"
     ]
    },
    {
     "name": "stdout",
     "output_type": "stream",
     "text": [
      "result of the mathematical expresion is 1598.695652173913\n"
     ]
    }
   ],
   "source": [
    "expresion = (input('Enter the mathematical operation'))\n",
    "result = eval(expresion)\n",
    "print('result of the mathematical expresion is', result)\n"
   ]
  },
  {
   "cell_type": "code",
   "execution_count": 7,
   "id": "660d8664-8d49-4bb2-8571-56bfab1d4e0e",
   "metadata": {},
   "outputs": [
    {
     "data": {
      "text/plain": [
       "' 1) input to ask user 1 and 2 to enter house size, number of rooms they want and. check the data type user has entered\\n    2) Calculate the price of house, if per sq feet is Rs 5000.\\n    3) Threshold price is 75 lakh rs, which user is paying the price above threshold price  '"
      ]
     },
     "execution_count": 7,
     "metadata": {},
     "output_type": "execute_result"
    }
   ],
   "source": [
    "''' 1) input to ask user 1 and 2 to enter house size, number of rooms they want and. check the data type user has entered\n",
    "    2) Calculate the price of house, if per sq feet is Rs 5000.\n",
    "    3) Threshold price is 75 lakh rs, which user is paying the price above threshold price  '''\n"
   ]
  },
  {
   "cell_type": "code",
   "execution_count": 10,
   "id": "e537879b-2ff3-43ba-a0e3-feba6bf542a7",
   "metadata": {},
   "outputs": [
    {
     "name": "stdin",
     "output_type": "stream",
     "text": [
      "user 1 enter the size of house 1900\n",
      "user 1 enter the numbers of bedroom 3\n",
      "user 1 enter the budget 7000000\n",
      "user 2 enter the size of house 2500\n",
      "user 2 enter the numbers of bedroom 5\n",
      "user 2 enter the budget 80000000\n"
     ]
    },
    {
     "name": "stdout",
     "output_type": "stream",
     "text": [
      "The price of house for user 1 is 9500000.0\n",
      "The price of house for user 2 is 12500000.0\n",
      "user 1 is paying above threshold {True}\n",
      "user 2 is paying above threshold {True}\n"
     ]
    }
   ],
   "source": [
    "house_size_1 = float(input('user 1 enter the size of house'))\n",
    "bedrooms_1 = int(input('user 1 enter the numbers of bedroom'))\n",
    "price_1 = float(input('user 1 enter the budget'))\n",
    "\n",
    "house_size_2 = float(input('user 2 enter the size of house'))\n",
    "bedrooms_2 = int(input('user 2 enter the numbers of bedroom'))\n",
    "price_2 = float(input('user 2 enter the budget'))\n",
    "\n",
    "house_price_1 = house_size_1 * 5000\n",
    "house_price_2 = house_size_2 * 5000\n",
    "\n",
    "print('The price of house for user 1 is', house_price_1)\n",
    "print('The price of house for user 2 is', house_price_2)\n",
    "\n",
    "threshold_price = 7500000\n",
    "under1_threshold = house_price_1 >= threshold_price\n",
    "under2_threshold = house_price_2 >= threshold_price\n",
    "print(f'user 1 is paying above threshold', {under1_threshold })\n",
    "print(f'user 2 is paying above threshold', {under2_threshold })"
   ]
  },
  {
   "cell_type": "markdown",
   "id": "68eec11d-7295-46dc-a13c-f8cb4d10223d",
   "metadata": {},
   "source": [
    "# Stock  market analysis"
   ]
  },
  {
   "cell_type": "code",
   "execution_count": 3,
   "id": "a01f8f76-c8d2-43d7-b022-a38490b43c86",
   "metadata": {},
   "outputs": [
    {
     "name": "stdout",
     "output_type": "stream",
     "text": [
      "the new price of the stock is 110.00000000000001\n"
     ]
    },
    {
     "name": "stdin",
     "output_type": "stream",
     "text": [
      "enter your budget 90\n"
     ]
    },
    {
     "name": "stdout",
     "output_type": "stream",
     "text": [
      "user budget is greater than new price False\n"
     ]
    }
   ],
   "source": [
    "stock_symbool = 'xyz'\n",
    "current_price = 100\n",
    "percent_change = 10\n",
    "\n",
    "new_price = current_price*(1+percent_change/100)\n",
    "\n",
    "print(\"the new price of the stock is\", new_price)\n",
    "user_budget = int(input('enter your budget'))\n",
    "\n",
    "a = user_budget >= new_price\n",
    "print('user budget is greater than new price', a)"
   ]
  },
  {
   "cell_type": "markdown",
   "id": "28668265-f4d6-4ad0-a82d-499a9f20a347",
   "metadata": {},
   "source": [
    "# Check the Temperature of the city that it is within range of min and max temperature\n",
    "\n"
   ]
  },
  {
   "cell_type": "code",
   "execution_count": 10,
   "id": "65b01d03-9b3d-418c-b583-c8266b8ccff8",
   "metadata": {},
   "outputs": [
    {
     "name": "stdin",
     "output_type": "stream",
     "text": [
      "Enter the current temperature of your city 24\n"
     ]
    },
    {
     "name": "stdout",
     "output_type": "stream",
     "text": [
      "Current temperature of city is within range True\n"
     ]
    }
   ],
   "source": [
    "min_temp = 20\n",
    "max_temp = 35\n",
    "current_temp = int(input('Enter the current temperature of your city'))\n",
    "Range = min_temp <= current_temp and max_temp >= current_temp\n",
    "print('Current temperature of city is within range', Range)\n",
    "\n",
    "\n"
   ]
  },
  {
   "cell_type": "code",
   "execution_count": null,
   "id": "25a9eae4-3439-4ae5-8e7c-a701d9741f79",
   "metadata": {},
   "outputs": [],
   "source": []
  }
 ],
 "metadata": {
  "kernelspec": {
   "display_name": "Python 3 (ipykernel)",
   "language": "python",
   "name": "python3"
  },
  "language_info": {
   "codemirror_mode": {
    "name": "ipython",
    "version": 3
   },
   "file_extension": ".py",
   "mimetype": "text/x-python",
   "name": "python",
   "nbconvert_exporter": "python",
   "pygments_lexer": "ipython3",
   "version": "3.11.7"
  }
 },
 "nbformat": 4,
 "nbformat_minor": 5
}
