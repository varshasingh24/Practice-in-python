{
 "cells": [
  {
   "cell_type": "code",
   "execution_count": 3,
   "id": "39e0dade-d7de-481c-af84-5231cd7beaf9",
   "metadata": {},
   "outputs": [
    {
     "name": "stdin",
     "output_type": "stream",
     "text": [
      "Enter the number of people 5\n",
      "Enter the age of person 10\n"
     ]
    },
    {
     "name": "stdout",
     "output_type": "stream",
     "text": [
      "[10]\n"
     ]
    },
    {
     "name": "stdin",
     "output_type": "stream",
     "text": [
      "Enter the age of person 18\n"
     ]
    },
    {
     "name": "stdout",
     "output_type": "stream",
     "text": [
      "[10, 18]\n"
     ]
    },
    {
     "name": "stdin",
     "output_type": "stream",
     "text": [
      "Enter the age of person 25\n"
     ]
    },
    {
     "name": "stdout",
     "output_type": "stream",
     "text": [
      "[10, 18, 25]\n"
     ]
    },
    {
     "name": "stdin",
     "output_type": "stream",
     "text": [
      "Enter the age of person 65\n"
     ]
    },
    {
     "name": "stdout",
     "output_type": "stream",
     "text": [
      "[10, 18, 25, 65]\n"
     ]
    },
    {
     "name": "stdin",
     "output_type": "stream",
     "text": [
      "Enter the age of person 80\n"
     ]
    },
    {
     "name": "stdout",
     "output_type": "stream",
     "text": [
      "[10, 18, 25, 65, 80]\n",
      "Number of people in each age group\n",
      "Children 1\n",
      "Adult 2\n",
      "Senior 2\n"
     ]
    }
   ],
   "source": [
    "num_people = int(input('Enter the number of people'))\n",
    "\n",
    "ages = []\n",
    "\n",
    "for i in range(num_people):\n",
    "    age = int(input(\"Enter the age of person\"))\n",
    "    ages.append(age)\n",
    "    print(ages)\n",
    "child_count = 0\n",
    "adult_count = 0\n",
    "senior_count = 0\n",
    "\n",
    "for age in ages:\n",
    "    if age < 18:\n",
    "        child_count = child_count +1\n",
    "    elif age >= 18 and age < 65:\n",
    "        adult_count = adult_count+1\n",
    "    else:\n",
    "        senior_count = senior_count+1\n",
    "\n",
    "print(\"Number of people in each age group\")\n",
    "print(\"Children\", child_count)\n",
    "print(\"Adult\", adult_count)\n",
    "print(\"Senior\", senior_count)"
   ]
  },
  {
   "cell_type": "code",
   "execution_count": null,
   "id": "05d3e664-2880-4275-8b2f-93d2c13aa35d",
   "metadata": {},
   "outputs": [],
   "source": []
  }
 ],
 "metadata": {
  "kernelspec": {
   "display_name": "Python 3 (ipykernel)",
   "language": "python",
   "name": "python3"
  },
  "language_info": {
   "codemirror_mode": {
    "name": "ipython",
    "version": 3
   },
   "file_extension": ".py",
   "mimetype": "text/x-python",
   "name": "python",
   "nbconvert_exporter": "python",
   "pygments_lexer": "ipython3",
   "version": "3.11.7"
  }
 },
 "nbformat": 4,
 "nbformat_minor": 5
}
